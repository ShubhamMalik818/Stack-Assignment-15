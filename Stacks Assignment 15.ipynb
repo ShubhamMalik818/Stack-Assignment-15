{
 "cells": [
  {
   "cell_type": "code",
   "execution_count": null,
   "id": "3d6bba5a-28ff-4c0c-b997-c017e8bca3c2",
   "metadata": {},
   "outputs": [],
   "source": [
    "Question 1\n",
    "\n",
    "Given an array arr[ ] of size N having elements, the task is to find the next greater element for each element of the array in order of their \n",
    "appearance in the array.Next greater element of an element in the array is the nearest element on the right which is greater than the current \n",
    "element.If there does not exist next greater of current element, then next greater element for current element is -1. For example, next greater \n",
    "of the last element is always -1.\n",
    "\n",
    "Example 1:\n",
    "\n",
    "Input:\n",
    "N = 4, arr[] = [1 3 2 4]\n",
    "Output:\n",
    "3 4 4 -1\n",
    "Explanation:\n",
    "In the array, the next larger element to 1 is 3 , 3 is 4 , 2 is 4 and for 4 ? since it doesn't exist, it is -1.\n",
    "\n",
    "Example 2:\n",
    "\n",
    "Input:\n",
    "N = 5, arr[] [6 8 0 1 3]\n",
    "Output:\n",
    "8 -1 1 3 -1\n",
    "Explanation:\n",
    "In the array, the next larger element to 6 is 8, for 8 there is no larger elements hence it is -1, for 0 it is 1 , for 1 it is 3 and then \n",
    "for 3 there is no larger element on right and hence -1."
   ]
  },
  {
   "cell_type": "code",
   "execution_count": 1,
   "id": "b4d60a52-3420-4f30-98f4-bbd94ec6b213",
   "metadata": {},
   "outputs": [],
   "source": [
    "def findNextGreaterElements(arr):\n",
    "    stack = []\n",
    "    result = [-1] * len(arr)\n",
    "    \n",
    "    for i in range(len(arr)):\n",
    "        while stack and arr[i] > arr[stack[-1]]:\n",
    "            index = stack.pop()\n",
    "            result[index] = arr[i]\n",
    "        \n",
    "        stack.append(i)\n",
    "    \n",
    "    return result"
   ]
  },
  {
   "cell_type": "code",
   "execution_count": 2,
   "id": "ad1a5ed9-1985-4d04-b4ee-e84911492c84",
   "metadata": {},
   "outputs": [
    {
     "name": "stdout",
     "output_type": "stream",
     "text": [
      "[3, 4, 4, -1]\n",
      "[8, -1, 1, 3, -1]\n"
     ]
    }
   ],
   "source": [
    "arr1 = [1, 3, 2, 4]\n",
    "result1 = findNextGreaterElements(arr1)\n",
    "print(result1)  # Output: [3, 4, 4, -1]\n",
    "\n",
    "arr2 = [6, 8, 0, 1, 3]\n",
    "result2 = findNextGreaterElements(arr2)\n",
    "print(result2)  # Output: [8, -1, 1, 3, -1]"
   ]
  },
  {
   "cell_type": "code",
   "execution_count": null,
   "id": "941cc882-2e7e-49fb-88a9-38e626f95d06",
   "metadata": {},
   "outputs": [],
   "source": [
    "Question 2\n",
    "\n",
    "Given an array a of integers of length n, find the nearest smaller number for every element such that the smaller element is on \n",
    "left side.If no small element present on the left print -1.\n",
    "\n",
    "Example 1:\n",
    "\n",
    "Input: n = 3\n",
    "a = {1, 6, 2}\n",
    "Output: -1 1 1\n",
    "Explaination: There is no number at the left of 1. Smaller number than 6 and 2 is 1.\n",
    "\n",
    "Example 2:\n",
    "    \n",
    "Input: n = 6\n",
    "a = {1, 5, 0, 3, 4, 5}\n",
    "Output: -1 1 -1 0 3 4\n",
    "Explaination: Upto 3 it is easy to see the smaller numbers. But for 4 the smaller numbers are 1, 0 and 3. But among them 3 is closest. \n",
    "Similary for 5 it is 4."
   ]
  },
  {
   "cell_type": "code",
   "execution_count": 3,
   "id": "fe851191-7ecb-4f46-bb4e-341dc7d2f948",
   "metadata": {},
   "outputs": [],
   "source": [
    "def findNearestSmallerElements(arr):\n",
    "    stack = []\n",
    "    result = [-1] * len(arr)\n",
    "    \n",
    "    for i in range(len(arr)):\n",
    "        while stack and arr[i] <= arr[stack[-1]]:\n",
    "            stack.pop()\n",
    "        \n",
    "        if stack:\n",
    "            result[i] = arr[stack[-1]]\n",
    "        \n",
    "        stack.append(i)\n",
    "    \n",
    "    return result"
   ]
  },
  {
   "cell_type": "code",
   "execution_count": 4,
   "id": "b01a817e-9af1-4ba0-a496-ae0e398be265",
   "metadata": {},
   "outputs": [
    {
     "name": "stdout",
     "output_type": "stream",
     "text": [
      "[-1, 1, 1]\n",
      "[-1, 1, -1, 0, 3, 4]\n"
     ]
    }
   ],
   "source": [
    "arr1 = [1, 6, 2]\n",
    "result1 = findNearestSmallerElements(arr1)\n",
    "print(result1)  # Output: [-1, 1, 1]\n",
    "\n",
    "arr2 = [1, 5, 0, 3, 4, 5]\n",
    "result2 = findNearestSmallerElements(arr2)\n",
    "print(result2)  # Output: [-1, 1, -1, 0, 3, 4]"
   ]
  },
  {
   "cell_type": "code",
   "execution_count": null,
   "id": "cd3df594-0c0d-455a-a2ca-b47942311182",
   "metadata": {},
   "outputs": [],
   "source": [
    "Question 3\n",
    "\n",
    "Implement a Stack using two queues q1 and q2.\n",
    "\n",
    "Example 1:\n",
    "\n",
    "Input:\n",
    "push(2)\n",
    "push(3)\n",
    "pop()\n",
    "push(4)\n",
    "pop()\n",
    "Output:3 4\n",
    "Explanation:\n",
    "push(2) the stack will be {2}\n",
    "push(3) the stack will be {2 3}\n",
    "pop()   poped element will be 3 the\n",
    "        stack will be {2}\n",
    "push(4) the stack will be {2 4}\n",
    "pop()   poped element will be 4\n",
    "\n",
    "Example 2:\n",
    "    \n",
    "Input:\n",
    "push(2)\n",
    "pop()\n",
    "pop()\n",
    "push(3)\n",
    "Output:2 -1"
   ]
  },
  {
   "cell_type": "code",
   "execution_count": 5,
   "id": "916a633d-ff13-4a18-ba30-434b22eac31e",
   "metadata": {},
   "outputs": [],
   "source": [
    "class Stack:\n",
    "    def __init__(self):\n",
    "        self.q1 = []\n",
    "        self.q2 = []\n",
    "    \n",
    "    def push(self, x):\n",
    "        self.q1.append(x)\n",
    "    \n",
    "    def pop(self):\n",
    "        if not self.q1:\n",
    "            return -1\n",
    "        \n",
    "        while len(self.q1) > 1:\n",
    "            self.q2.append(self.q1.pop(0))\n",
    "        \n",
    "        popped_element = self.q1.pop(0)\n",
    "        \n",
    "        self.q1, self.q2 = self.q2, self.q1  # Swap the names of q1 and q2\n",
    "        \n",
    "        return popped_element"
   ]
  },
  {
   "cell_type": "code",
   "execution_count": 6,
   "id": "b82f9ed0-304a-4c30-a9c6-e116065819ce",
   "metadata": {},
   "outputs": [
    {
     "name": "stdout",
     "output_type": "stream",
     "text": [
      "3\n",
      "4\n"
     ]
    }
   ],
   "source": [
    "stack = Stack()\n",
    "\n",
    "stack.push(2)\n",
    "stack.push(3)\n",
    "print(stack.pop())  # Output: 3\n",
    "\n",
    "stack.push(4)\n",
    "print(stack.pop())  # Output: 4"
   ]
  },
  {
   "cell_type": "code",
   "execution_count": 7,
   "id": "696b74fa-9861-4885-9ce8-b2684a0f5cdc",
   "metadata": {},
   "outputs": [
    {
     "name": "stdout",
     "output_type": "stream",
     "text": [
      "2\n",
      "-1\n",
      "3\n"
     ]
    }
   ],
   "source": [
    "stack = Stack()\n",
    "\n",
    "stack.push(2)\n",
    "print(stack.pop())  # Output: 2\n",
    "print(stack.pop())  # Output: -1\n",
    "\n",
    "stack.push(3)\n",
    "print(stack.pop())  # Output: 3"
   ]
  },
  {
   "cell_type": "code",
   "execution_count": null,
   "id": "12ec471e-829a-4ca2-8b66-34d74da1eea7",
   "metadata": {},
   "outputs": [],
   "source": [
    "Question 4\n",
    "\n",
    "You are given a stack St. You have to reverse the stack using recursion.\n",
    "\n",
    "Example 1:\n",
    "\n",
    "Input:St = {3,2,1,7,6}\n",
    "Output:{6,7,1,2,3}\n",
    "\n",
    "Example 2:\n",
    "    \n",
    "Input:St = {4,3,9,6}\n",
    "Output:{6,9,3,4}"
   ]
  },
  {
   "cell_type": "code",
   "execution_count": 8,
   "id": "b9151731-6a48-4002-9c68-428b7acbcb4f",
   "metadata": {},
   "outputs": [],
   "source": [
    "def reverseStack(St):\n",
    "    if len(St) <= 1:\n",
    "        return\n",
    "    \n",
    "    top_element = St.pop()\n",
    "    reverseStack(St)\n",
    "    insertAtBottom(St, top_element)\n",
    "\n",
    "def insertAtBottom(St, item):\n",
    "    if len(St) == 0:\n",
    "        St.append(item)\n",
    "        return\n",
    "    \n",
    "    top_element = St.pop()\n",
    "    insertAtBottom(St, item)\n",
    "    St.append(top_element)"
   ]
  },
  {
   "cell_type": "code",
   "execution_count": 9,
   "id": "5b336e51-b6b0-437c-91a9-b5aa1bc143a6",
   "metadata": {},
   "outputs": [
    {
     "name": "stdout",
     "output_type": "stream",
     "text": [
      "[6, 7, 1, 2, 3]\n",
      "[6, 9, 3, 4]\n"
     ]
    }
   ],
   "source": [
    "St1 = [3, 2, 1, 7, 6]\n",
    "reverseStack(St1)\n",
    "print(St1)  # Output: [6, 7, 1, 2, 3]\n",
    "\n",
    "St2 = [4, 3, 9, 6]\n",
    "reverseStack(St2)\n",
    "print(St2)  # Output: [6, 9, 3, 4]"
   ]
  },
  {
   "cell_type": "code",
   "execution_count": null,
   "id": "28123c3b-2acb-45c7-bf15-cfb7b623eab5",
   "metadata": {},
   "outputs": [],
   "source": [
    "Question 5\n",
    "\n",
    "You are given a string S, the task is to reverse the string using stack.\n",
    "\n",
    "Example 1:\n",
    "\n",
    "Input: S=\"GeeksforGeeks\"\n",
    "Output: skeeGrofskeeG"
   ]
  },
  {
   "cell_type": "code",
   "execution_count": 10,
   "id": "e15e55b4-16b2-473d-a895-126521228ad9",
   "metadata": {},
   "outputs": [],
   "source": [
    "def reverseString(S):\n",
    "    stack = []\n",
    "    for char in S:\n",
    "        stack.append(char)\n",
    "    \n",
    "    reversed_string = \"\"\n",
    "    while stack:\n",
    "        reversed_string += stack.pop()\n",
    "    \n",
    "    return reversed_string"
   ]
  },
  {
   "cell_type": "code",
   "execution_count": 11,
   "id": "8d5b119c-fe2e-4b1d-a334-61c7a37e8dbf",
   "metadata": {},
   "outputs": [
    {
     "name": "stdout",
     "output_type": "stream",
     "text": [
      "skeeGrofskeeG\n"
     ]
    }
   ],
   "source": [
    "S = \"GeeksforGeeks\"\n",
    "reversed_S = reverseString(S)\n",
    "print(reversed_S)  # Output: \"skeeGrofskeeG\""
   ]
  },
  {
   "cell_type": "code",
   "execution_count": null,
   "id": "f19619e6-f049-4b6b-86f6-2ac9e1f9ecd2",
   "metadata": {},
   "outputs": [],
   "source": [
    "Question 6\n",
    "\n",
    "Given string S representing a postfix expression, the task is to evaluate the expression and find the final value. Operators will only \n",
    "include the basic arithmetic operators like *, /, + and -.\n",
    "\n",
    "Example 1:\n",
    "\n",
    "Input: S = \"231*+9-\"\n",
    "Output: -4\n",
    "Explanation:\n",
    "After solving the given expression, we have -4 as result.\n",
    "\n",
    "Example 2:\n",
    "    \n",
    "Input: S = \"123+*8-\"\n",
    "Output: -3\n",
    "Explanation:\n",
    "After solving the given postfix expression, we have -3 as result."
   ]
  },
  {
   "cell_type": "code",
   "execution_count": 12,
   "id": "9fcef1de-4a8f-46f9-a461-868a09343da8",
   "metadata": {},
   "outputs": [],
   "source": [
    "def evaluatePostfixExpression(S):\n",
    "    stack = []\n",
    "    \n",
    "    for char in S:\n",
    "        if char.isdigit():\n",
    "            stack.append(int(char))\n",
    "        else:\n",
    "            operand2 = stack.pop()\n",
    "            operand1 = stack.pop()\n",
    "            result = performOperation(char, operand1, operand2)\n",
    "            stack.append(result)\n",
    "    \n",
    "    return stack.pop()\n",
    "\n",
    "def performOperation(operator, operand1, operand2):\n",
    "    if operator == '*':\n",
    "        return operand1 * operand2\n",
    "    elif operator == '/':\n",
    "        return operand1 / operand2\n",
    "    elif operator == '+':\n",
    "        return operand1 + operand2\n",
    "    elif operator == '-':\n",
    "        return operand1 - operand2\n",
    "    else:\n",
    "        raise ValueError(\"Invalid operator\")"
   ]
  },
  {
   "cell_type": "code",
   "execution_count": 13,
   "id": "73c47179-741c-44ad-9403-4f8c80912c58",
   "metadata": {},
   "outputs": [
    {
     "name": "stdout",
     "output_type": "stream",
     "text": [
      "-4\n",
      "-3\n"
     ]
    }
   ],
   "source": [
    "S1 = \"231*+9-\"\n",
    "result1 = evaluatePostfixExpression(S1)\n",
    "print(result1)  # Output: -4\n",
    "\n",
    "S2 = \"123+*8-\"\n",
    "result2 = evaluatePostfixExpression(S2)\n",
    "print(result2)  # Output: -3"
   ]
  },
  {
   "cell_type": "code",
   "execution_count": null,
   "id": "9c547bfb-7d28-4338-9b3a-9dde4aac947d",
   "metadata": {},
   "outputs": [],
   "source": [
    "Question 7\n",
    "\n",
    "Design a stack that supports push, pop, top, and retrieving the minimum element in constant time.\n",
    "\n",
    "Implement the `MinStack` class:\n",
    "\n",
    "- `MinStack()` initializes the stack object.\n",
    "- `void push(int val)` pushes the element `val` onto the stack.\n",
    "- `void pop()` removes the element on the top of the stack.\n",
    "- `int top()` gets the top element of the stack.\n",
    "- `int getMin()` retrieves the minimum element in the stack.\n",
    "\n",
    "You must implement a solution with `O(1)` time complexity for each function.\n",
    "\n",
    "Example 1:\n",
    "\n",
    "Input\n",
    "[\"MinStack\",\"push\",\"push\",\"push\",\"getMin\",\"pop\",\"top\",\"getMin\"]\n",
    "[[],[-2],[0],[-3],[],[],[],[]]\n",
    "\n",
    "Output\n",
    "[null,null,null,null,-3,null,0,-2]\n",
    "\n",
    "Explanation\n",
    "MinStack minStack = new MinStack();\n",
    "minStack.push(-2);\n",
    "minStack.push(0);\n",
    "minStack.push(-3);\n",
    "minStack.getMin(); // return -3\n",
    "minStack.pop();\n",
    "minStack.top();    // return 0\n",
    "minStack.getMin(); // return -2"
   ]
  },
  {
   "cell_type": "code",
   "execution_count": 14,
   "id": "6d89bda1-f1c4-427c-8df5-24e249b817ba",
   "metadata": {},
   "outputs": [],
   "source": [
    "class MinStack:\n",
    "    def __init__(self):\n",
    "        self.stack = []  # Main stack to store elements\n",
    "        self.min_stack = []  # Auxiliary stack to keep track of the minimum element\n",
    "    \n",
    "    def push(self, val):\n",
    "        self.stack.append(val)\n",
    "        if not self.min_stack or val <= self.min_stack[-1]:\n",
    "            self.min_stack.append(val)\n",
    "    \n",
    "    def pop(self):\n",
    "        if self.stack[-1] == self.min_stack[-1]:\n",
    "            self.min_stack.pop()\n",
    "        self.stack.pop()\n",
    "    \n",
    "    def top(self):\n",
    "        return self.stack[-1]\n",
    "    \n",
    "    def getMin(self):\n",
    "        return self.min_stack[-1]"
   ]
  },
  {
   "cell_type": "code",
   "execution_count": 15,
   "id": "7d397c8d-a64d-48f3-838b-44a06398b331",
   "metadata": {},
   "outputs": [
    {
     "name": "stdout",
     "output_type": "stream",
     "text": [
      "-3\n",
      "0\n",
      "-2\n"
     ]
    }
   ],
   "source": [
    "minStack = MinStack()\n",
    "minStack.push(-2)\n",
    "minStack.push(0)\n",
    "minStack.push(-3)\n",
    "print(minStack.getMin())  # Output: -3\n",
    "minStack.pop()\n",
    "print(minStack.top())     # Output: 0\n",
    "print(minStack.getMin())  # Output: -2"
   ]
  },
  {
   "cell_type": "code",
   "execution_count": null,
   "id": "2a8ecce2-38dc-4e08-890c-c719738bf933",
   "metadata": {},
   "outputs": [],
   "source": [
    "Question 8\n",
    "\n",
    "Given `n` non-negative integers representing an elevation map where the width of each bar is `1`, compute how much water it can trap after raining.\n",
    "\n",
    "Example 1:\n",
    "\n",
    "Input: height = [0,1,0,2,1,0,1,3,2,1,2,1]\n",
    "Output: 6\n",
    "Explanation: The above elevation map (black section) is represented by array [0,1,0,2,1,0,1,3,2,1,2,1]. In this case, 6 units of rain water \n",
    "(blue section) are being trapped.\n",
    "\n",
    "Example 2:\n",
    "    \n",
    "Input: height = [4,2,0,3,2,5]\n",
    "Output: 9"
   ]
  },
  {
   "cell_type": "code",
   "execution_count": null,
   "id": "05b22203-2879-4566-bc89-ad5998095f1b",
   "metadata": {},
   "outputs": [],
   "source": []
  }
 ],
 "metadata": {
  "kernelspec": {
   "display_name": "Python 3 (ipykernel)",
   "language": "python",
   "name": "python3"
  },
  "language_info": {
   "codemirror_mode": {
    "name": "ipython",
    "version": 3
   },
   "file_extension": ".py",
   "mimetype": "text/x-python",
   "name": "python",
   "nbconvert_exporter": "python",
   "pygments_lexer": "ipython3",
   "version": "3.10.8"
  }
 },
 "nbformat": 4,
 "nbformat_minor": 5
}
